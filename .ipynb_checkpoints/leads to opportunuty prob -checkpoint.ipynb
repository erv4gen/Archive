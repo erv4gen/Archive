{
 "cells": [
  {
   "cell_type": "code",
   "execution_count": 206,
   "metadata": {},
   "outputs": [],
   "source": [
    "import pyodbc\n",
    "import numpy as np\n",
    "import pymssql\n",
    "\n",
    "import difflib \n",
    "from pdb import set_trace\n",
    "import matplotlib.pyplot as plt\n",
    "from matplotlib import style\n",
    "import numpy as np\n",
    "from sklearn import preprocessing\n",
    "%matplotlib inline \n",
    "style.use('Solarize_Light2')\n",
    "import pandas as pd\n",
    "from oauth2client.service_account import ServiceAccountCredentials\n",
    "from sklearn import cross_validation, svm\n",
    "from sklearn.linear_model import SGDClassifier\n",
    "from sklearn.preprocessing import StandardScaler\n",
    "from sklearn.metrics import confusion_matrix , recall_score , roc_curve , roc_auc_score\n",
    "from matplotlib.font_manager import FontProperties\n",
    "from sklearn.preprocessing import binarize\n",
    "fontP = FontProperties()\n",
    "fontP.set_size('small')\n",
    "np.set_printoptions(precision=2)"
   ]
  },
  {
   "cell_type": "code",
   "execution_count": 207,
   "metadata": {},
   "outputs": [],
   "source": [
    "def evaluate_threshold(threshold):\n",
    "    print('Sensitivity:', tpr[thresholds > threshold][-1])\n",
    "    print('Specificity:', 1 - fpr[thresholds > threshold][-1])"
   ]
  },
  {
   "cell_type": "code",
   "execution_count": 208,
   "metadata": {},
   "outputs": [],
   "source": [
    "cnxn_dx = pymssql.connect(server='datahub-db.ul.com', \n",
    "                       user='datahubcube', \n",
    "                       password='pwd4Datahubcube',   # Enter your Windows password here\n",
    "                       database='Marketo',\n",
    "                       appname='',\n",
    "                       conn_properties='SET ANSI_WARNINGS OFF;')\n"
   ]
  },
  {
   "cell_type": "code",
   "execution_count": 209,
   "metadata": {},
   "outputs": [],
   "source": [
    "marketoleads = \"\"\"\n",
    "        SELECT \n",
    "      *\n",
    "      FROM [Marketo].[dbo].[leads]\"\"\"\n",
    "\n",
    "marketo_data_frame = pd.read_sql(marketoleads,cnxn_dx)"
   ]
  },
  {
   "cell_type": "code",
   "execution_count": 210,
   "metadata": {},
   "outputs": [],
   "source": [
    "cnxn_dx = pymssql.connect(server='datahub-db.ul.com', \n",
    "                       user='datahubcube', \n",
    "                       password='pwd4Datahubcube',   # Enter your Windows password here\n",
    "                       database='DynamicsAzure',\n",
    "                       appname='Vladimir Eremin',\n",
    "                       conn_properties='SET ANSI_WARNINGS OFF;')"
   ]
  },
  {
   "cell_type": "code",
   "execution_count": 211,
   "metadata": {},
   "outputs": [],
   "source": [
    "crmleads = \"\"\"\n",
    "        SELECT l.[leadid] as [CRM Lead Id]\n",
    "       , l.[emailaddress1] as [Email] \n",
    "              ,[address1_city]\n",
    "\n",
    "\n",
    "              FROM [dbo].[lead] as l\n",
    "\n",
    "              LEFT JOIN [dbo].[opportunity] as o\n",
    "              ON l.[leadid] = o.[originatingleadid]\n",
    "\n",
    "       WHERE \n",
    "\n",
    "       (l.[emailaddress1] NOT LIKE '%ul.com%')\n",
    "\n",
    "       --AND (o.[statecode]=1)\n",
    " \n",
    "                          \"\"\"\n",
    "\n",
    "\n",
    "crm_data_frame = pd.read_sql(crmleads,cnxn_dx)"
   ]
  },
  {
   "cell_type": "code",
   "execution_count": 212,
   "metadata": {},
   "outputs": [],
   "source": [
    "marketo_web_sessions = pd.read_csv(r'c:\\Users\\15764\\Downloads\\ULMarketing.dbo.LeadsWebSessions.tsv',delimiter='\\t')\n",
    "marketo_web_sessions = marketo_web_sessions[['leadId', 'Session Count', 'Avg. Session Duration (min)',\n",
    "       'Avg. Webpage Visits Per Session', 'Avg. Fill Out Forms Per Session',\n",
    "       'Email Sent', 'Email Opened', 'Email Clicks']]"
   ]
  },
  {
   "cell_type": "code",
   "execution_count": 213,
   "metadata": {},
   "outputs": [],
   "source": [
    "feature_columns =[ 'id','title', 'city', 'state', 'postalCode',\n",
    "       'country', 'emailInvalid','leadStatus', 'rating',\n",
    "       'unsubscribed', 'originalLeadSourceContent',\n",
    "       'Emailable', 'emailOptin','emailOptin2', 'contactMe','owningbusinessunit',\n",
    "       'divisionCombined2','po_division','po_cileadscore','po_cpleadscore','po_ctleadscore',\n",
    "        'po_envleadscore','po_hsleadscore', 'industry','OppFlag']"
   ]
  },
  {
   "cell_type": "code",
   "execution_count": 214,
   "metadata": {},
   "outputs": [
    {
     "data": {
      "text/html": [
       "<div>\n",
       "<style scoped>\n",
       "    .dataframe tbody tr th:only-of-type {\n",
       "        vertical-align: middle;\n",
       "    }\n",
       "\n",
       "    .dataframe tbody tr th {\n",
       "        vertical-align: top;\n",
       "    }\n",
       "\n",
       "    .dataframe thead th {\n",
       "        text-align: right;\n",
       "    }\n",
       "</style>\n",
       "<table border=\"1\" class=\"dataframe\">\n",
       "  <thead>\n",
       "    <tr style=\"text-align: right;\">\n",
       "      <th></th>\n",
       "      <th>row_key</th>\n",
       "      <th>id</th>\n",
       "      <th>createdAt</th>\n",
       "      <th>updatedAt</th>\n",
       "      <th>lastName</th>\n",
       "      <th>firstName</th>\n",
       "      <th>title</th>\n",
       "      <th>email</th>\n",
       "      <th>phone</th>\n",
       "      <th>company</th>\n",
       "      <th>...</th>\n",
       "      <th>po_marketingsuspended</th>\n",
       "      <th>po_qualificationhotdate</th>\n",
       "      <th>po_qualificationwarmdate</th>\n",
       "      <th>po_region_account</th>\n",
       "      <th>po_requestedservice</th>\n",
       "      <th>po_requestedservice_gos</th>\n",
       "      <th>po_subindustry_gos</th>\n",
       "      <th>po_tsleadscore</th>\n",
       "      <th>industry</th>\n",
       "      <th>ts</th>\n",
       "    </tr>\n",
       "  </thead>\n",
       "  <tbody>\n",
       "    <tr>\n",
       "      <th>0</th>\n",
       "      <td>1be6d342-c6cd-5175-6e6b-000006f35867</td>\n",
       "      <td>3584323</td>\n",
       "      <td>2016-09-20 12:27:48</td>\n",
       "      <td>2018-04-08 00:35:43</td>\n",
       "      <td>BRACHT</td>\n",
       "      <td>DAN</td>\n",
       "      <td>None</td>\n",
       "      <td>info@pulleykellam.com</td>\n",
       "      <td>1 260 356-6326</td>\n",
       "      <td>PULLEY-KELLAM CO INC</td>\n",
       "      <td>...</td>\n",
       "      <td>false</td>\n",
       "      <td>None</td>\n",
       "      <td>None</td>\n",
       "      <td>None</td>\n",
       "      <td>None</td>\n",
       "      <td>None</td>\n",
       "      <td>None</td>\n",
       "      <td>200</td>\n",
       "      <td>None</td>\n",
       "      <td>2018-04-09 19:47:05</td>\n",
       "    </tr>\n",
       "    <tr>\n",
       "      <th>1</th>\n",
       "      <td>2f1b3a7a-22cc-035e-1b27-00000c3791b9</td>\n",
       "      <td>10784281</td>\n",
       "      <td>2018-04-04 12:18:39</td>\n",
       "      <td>2018-04-04 13:52:01</td>\n",
       "      <td>Churches</td>\n",
       "      <td>Martin</td>\n",
       "      <td>Technical Manger</td>\n",
       "      <td>martin.churches@xds-solutions.com</td>\n",
       "      <td>1245249002</td>\n",
       "      <td>XDS Solutions Ltd</td>\n",
       "      <td>...</td>\n",
       "      <td>false</td>\n",
       "      <td>None</td>\n",
       "      <td>None</td>\n",
       "      <td>None</td>\n",
       "      <td>None</td>\n",
       "      <td>None</td>\n",
       "      <td>N/A - Environment</td>\n",
       "      <td>None</td>\n",
       "      <td>None</td>\n",
       "      <td>2018-04-06 15:01:12</td>\n",
       "    </tr>\n",
       "    <tr>\n",
       "      <th>2</th>\n",
       "      <td>4a305b04-d02d-91fe-7939-00002244dab4</td>\n",
       "      <td>673140</td>\n",
       "      <td>2016-05-07 11:32:15</td>\n",
       "      <td>2018-01-05 11:48:11</td>\n",
       "      <td>HO</td>\n",
       "      <td>JO</td>\n",
       "      <td>None</td>\n",
       "      <td>fotinjo@biznetvigator.com</td>\n",
       "      <td>None</td>\n",
       "      <td>FOOK TIN GARMENT MANUFACTURERS LIMITED</td>\n",
       "      <td>...</td>\n",
       "      <td>false</td>\n",
       "      <td>None</td>\n",
       "      <td>None</td>\n",
       "      <td>3ef19cf1-eff1-e511-8105-c4346bad135c</td>\n",
       "      <td>None</td>\n",
       "      <td>None</td>\n",
       "      <td>None</td>\n",
       "      <td>35</td>\n",
       "      <td>None</td>\n",
       "      <td>2018-03-20 01:16:41</td>\n",
       "    </tr>\n",
       "    <tr>\n",
       "      <th>3</th>\n",
       "      <td>8a03cef8-979f-a0dd-901d-00003f6a3997</td>\n",
       "      <td>1261648</td>\n",
       "      <td>2016-05-07 12:25:25</td>\n",
       "      <td>2018-01-05 13:44:30</td>\n",
       "      <td>muder</td>\n",
       "      <td>heidi</td>\n",
       "      <td>None</td>\n",
       "      <td>hidee868@yahoo.com</td>\n",
       "      <td>None</td>\n",
       "      <td>Blooming Design</td>\n",
       "      <td>...</td>\n",
       "      <td>false</td>\n",
       "      <td>None</td>\n",
       "      <td>None</td>\n",
       "      <td>None</td>\n",
       "      <td>None</td>\n",
       "      <td>None</td>\n",
       "      <td>None</td>\n",
       "      <td>35</td>\n",
       "      <td>Service Provider</td>\n",
       "      <td>2018-04-06 15:00:33</td>\n",
       "    </tr>\n",
       "    <tr>\n",
       "      <th>4</th>\n",
       "      <td>c2737a85-fb11-02da-88db-0000640179c1</td>\n",
       "      <td>4783983</td>\n",
       "      <td>2017-01-02 18:54:41</td>\n",
       "      <td>2018-01-05 16:12:14</td>\n",
       "      <td>Halpern</td>\n",
       "      <td>Naomi</td>\n",
       "      <td>None</td>\n",
       "      <td>nhalpern@promoshopnyc.com</td>\n",
       "      <td>None</td>\n",
       "      <td>PromoShop Inc</td>\n",
       "      <td>...</td>\n",
       "      <td>false</td>\n",
       "      <td>None</td>\n",
       "      <td>None</td>\n",
       "      <td>None</td>\n",
       "      <td>None</td>\n",
       "      <td>None</td>\n",
       "      <td>None</td>\n",
       "      <td>35</td>\n",
       "      <td>None</td>\n",
       "      <td>2018-03-20 01:17:07</td>\n",
       "    </tr>\n",
       "  </tbody>\n",
       "</table>\n",
       "<p>5 rows × 54 columns</p>\n",
       "</div>"
      ],
      "text/plain": [
       "                                row_key        id            createdAt  \\\n",
       "0  1be6d342-c6cd-5175-6e6b-000006f35867   3584323  2016-09-20 12:27:48   \n",
       "1  2f1b3a7a-22cc-035e-1b27-00000c3791b9  10784281  2018-04-04 12:18:39   \n",
       "2  4a305b04-d02d-91fe-7939-00002244dab4    673140  2016-05-07 11:32:15   \n",
       "3  8a03cef8-979f-a0dd-901d-00003f6a3997   1261648  2016-05-07 12:25:25   \n",
       "4  c2737a85-fb11-02da-88db-0000640179c1   4783983  2017-01-02 18:54:41   \n",
       "\n",
       "             updatedAt  lastName firstName             title  \\\n",
       "0  2018-04-08 00:35:43    BRACHT       DAN              None   \n",
       "1  2018-04-04 13:52:01  Churches    Martin  Technical Manger   \n",
       "2  2018-01-05 11:48:11        HO        JO              None   \n",
       "3  2018-01-05 13:44:30     muder     heidi              None   \n",
       "4  2018-01-05 16:12:14   Halpern     Naomi              None   \n",
       "\n",
       "                               email           phone  \\\n",
       "0              info@pulleykellam.com  1 260 356-6326   \n",
       "1  martin.churches@xds-solutions.com      1245249002   \n",
       "2          fotinjo@biznetvigator.com            None   \n",
       "3                 hidee868@yahoo.com            None   \n",
       "4          nhalpern@promoshopnyc.com            None   \n",
       "\n",
       "                                  company         ...           \\\n",
       "0                    PULLEY-KELLAM CO INC         ...            \n",
       "1                       XDS Solutions Ltd         ...            \n",
       "2  FOOK TIN GARMENT MANUFACTURERS LIMITED         ...            \n",
       "3                         Blooming Design         ...            \n",
       "4                           PromoShop Inc         ...            \n",
       "\n",
       "  po_marketingsuspended po_qualificationhotdate po_qualificationwarmdate  \\\n",
       "0                 false                    None                     None   \n",
       "1                 false                    None                     None   \n",
       "2                 false                    None                     None   \n",
       "3                 false                    None                     None   \n",
       "4                 false                    None                     None   \n",
       "\n",
       "                      po_region_account po_requestedservice  \\\n",
       "0                                  None                None   \n",
       "1                                  None                None   \n",
       "2  3ef19cf1-eff1-e511-8105-c4346bad135c                None   \n",
       "3                                  None                None   \n",
       "4                                  None                None   \n",
       "\n",
       "  po_requestedservice_gos po_subindustry_gos po_tsleadscore          industry  \\\n",
       "0                    None               None            200              None   \n",
       "1                    None  N/A - Environment           None              None   \n",
       "2                    None               None             35              None   \n",
       "3                    None               None             35  Service Provider   \n",
       "4                    None               None             35              None   \n",
       "\n",
       "                    ts  \n",
       "0  2018-04-09 19:47:05  \n",
       "1  2018-04-06 15:01:12  \n",
       "2  2018-03-20 01:16:41  \n",
       "3  2018-04-06 15:00:33  \n",
       "4  2018-03-20 01:17:07  \n",
       "\n",
       "[5 rows x 54 columns]"
      ]
     },
     "execution_count": 214,
     "metadata": {},
     "output_type": "execute_result"
    }
   ],
   "source": [
    "marketo_data_frame.email = marketo_data_frame.email.str.lower()\n",
    "marketo_data_frame.head()"
   ]
  },
  {
   "cell_type": "code",
   "execution_count": 215,
   "metadata": {},
   "outputs": [
    {
     "data": {
      "text/html": [
       "<div>\n",
       "<style scoped>\n",
       "    .dataframe tbody tr th:only-of-type {\n",
       "        vertical-align: middle;\n",
       "    }\n",
       "\n",
       "    .dataframe tbody tr th {\n",
       "        vertical-align: top;\n",
       "    }\n",
       "\n",
       "    .dataframe thead th {\n",
       "        text-align: right;\n",
       "    }\n",
       "</style>\n",
       "<table border=\"1\" class=\"dataframe\">\n",
       "  <thead>\n",
       "    <tr style=\"text-align: right;\">\n",
       "      <th></th>\n",
       "      <th>CRM Lead Id</th>\n",
       "      <th>Email</th>\n",
       "      <th>address1_city</th>\n",
       "    </tr>\n",
       "  </thead>\n",
       "  <tbody>\n",
       "    <tr>\n",
       "      <th>0</th>\n",
       "      <td>4507614e-0c77-e711-811d-e0071b6af0d1</td>\n",
       "      <td>isaac.davila-carreon@harman.com</td>\n",
       "      <td>None</td>\n",
       "    </tr>\n",
       "    <tr>\n",
       "      <th>1</th>\n",
       "      <td>1c81fc24-55b7-e611-812b-c4346bac124c</td>\n",
       "      <td>ie_nsm@yahoo.com.hk</td>\n",
       "      <td>Hong Kong</td>\n",
       "    </tr>\n",
       "    <tr>\n",
       "      <th>2</th>\n",
       "      <td>b6bbf63e-4226-e511-b057-6c3be5a80e4c</td>\n",
       "      <td>wyo@tctwest.net</td>\n",
       "      <td>Powell</td>\n",
       "    </tr>\n",
       "    <tr>\n",
       "      <th>3</th>\n",
       "      <td>f09cd1a9-baf4-e411-9d55-6c3be5a80e4c</td>\n",
       "      <td>sudhakar.marthi@zohocorp.com</td>\n",
       "      <td>Ramapuram, Chennai</td>\n",
       "    </tr>\n",
       "    <tr>\n",
       "      <th>4</th>\n",
       "      <td>e7d6d603-146c-e411-956e-6c3be5a80e4c</td>\n",
       "      <td>asad@debonairgroupbd.com</td>\n",
       "      <td>None</td>\n",
       "    </tr>\n",
       "  </tbody>\n",
       "</table>\n",
       "</div>"
      ],
      "text/plain": [
       "                            CRM Lead Id                            Email  \\\n",
       "0  4507614e-0c77-e711-811d-e0071b6af0d1  isaac.davila-carreon@harman.com   \n",
       "1  1c81fc24-55b7-e611-812b-c4346bac124c              ie_nsm@yahoo.com.hk   \n",
       "2  b6bbf63e-4226-e511-b057-6c3be5a80e4c                  wyo@tctwest.net   \n",
       "3  f09cd1a9-baf4-e411-9d55-6c3be5a80e4c     sudhakar.marthi@zohocorp.com   \n",
       "4  e7d6d603-146c-e411-956e-6c3be5a80e4c         asad@debonairgroupbd.com   \n",
       "\n",
       "        address1_city  \n",
       "0                None  \n",
       "1           Hong Kong  \n",
       "2              Powell  \n",
       "3  Ramapuram, Chennai  \n",
       "4                None  "
      ]
     },
     "execution_count": 215,
     "metadata": {},
     "output_type": "execute_result"
    }
   ],
   "source": [
    "crm_data_frame.Email = crm_data_frame.Email.str.lower()\n",
    "opp_list = crm_data_frame.Email.tolist()\n",
    "crm_data_frame.head()"
   ]
  },
  {
   "cell_type": "code",
   "execution_count": 216,
   "metadata": {},
   "outputs": [],
   "source": [
    "marketo_data_frame.loc[marketo_data_frame.email.isin(opp_list),'OppFlag'] = 1\n",
    "marketo_data_frame.loc[~marketo_data_frame.email.isin(opp_list),'OppFlag'] = 0"
   ]
  },
  {
   "cell_type": "code",
   "execution_count": 217,
   "metadata": {},
   "outputs": [],
   "source": [
    "marketo_data_frame_f = marketo_data_frame.loc[:,feature_columns].copy()\n",
    "marketo_data_frame_res = pd.merge(marketo_data_frame_f,marketo_web_sessions,left_on='id',right_on='leadId',how=\"inner\")"
   ]
  },
  {
   "cell_type": "code",
   "execution_count": 218,
   "metadata": {},
   "outputs": [],
   "source": [
    "def handle_non_numerical_data(df):\n",
    "    columns = df.columns.values    \n",
    "    for column in columns:\n",
    "        text_digit_vals = {}\n",
    "        def convert_to_int(val):\n",
    "            return text_digit_vals[val]\n",
    "        \n",
    "        if df[column].dtype != np.int64 and df[column].dtype != np.float64:\n",
    "            column_contents = df[column].values.tolist()\n",
    "            unique_elements = set(column_contents)\n",
    "            x=0\n",
    "            for unique in unique_elements:\n",
    "                if unique not in text_digit_vals:\n",
    "                    text_digit_vals[unique] = x\n",
    "                    x+=1\n",
    "            \n",
    "            df[column] = list(map(convert_to_int,df[column]))\n",
    "            \n",
    "    return df"
   ]
  },
  {
   "cell_type": "code",
   "execution_count": 219,
   "metadata": {},
   "outputs": [],
   "source": [
    "marketo_data_frame_filtered  = (marketo_data_frame.drop_duplicates(subset='email')\n",
    "                                .drop(columns='id')\n",
    "                                .apply(lambda x: x.replace({'false': 0, 'true': 1}), axis=1)\n",
    "                                .fillna(0)\n",
    "                                .copy())"
   ]
  },
  {
   "cell_type": "code",
   "execution_count": 220,
   "metadata": {},
   "outputs": [],
   "source": [
    "marketo_data_frame_filtered  = handle_non_numerical_data(marketo_data_frame_filtered)"
   ]
  },
  {
   "cell_type": "code",
   "execution_count": 221,
   "metadata": {},
   "outputs": [
    {
     "data": {
      "text/html": [
       "<div>\n",
       "<style scoped>\n",
       "    .dataframe tbody tr th:only-of-type {\n",
       "        vertical-align: middle;\n",
       "    }\n",
       "\n",
       "    .dataframe tbody tr th {\n",
       "        vertical-align: top;\n",
       "    }\n",
       "\n",
       "    .dataframe thead th {\n",
       "        text-align: right;\n",
       "    }\n",
       "</style>\n",
       "<table border=\"1\" class=\"dataframe\">\n",
       "  <thead>\n",
       "    <tr style=\"text-align: right;\">\n",
       "      <th></th>\n",
       "      <th>row_key</th>\n",
       "      <th>createdAt</th>\n",
       "      <th>updatedAt</th>\n",
       "      <th>lastName</th>\n",
       "      <th>firstName</th>\n",
       "      <th>title</th>\n",
       "      <th>email</th>\n",
       "      <th>phone</th>\n",
       "      <th>company</th>\n",
       "      <th>city</th>\n",
       "      <th>...</th>\n",
       "      <th>po_qualificationhotdate</th>\n",
       "      <th>po_qualificationwarmdate</th>\n",
       "      <th>po_region_account</th>\n",
       "      <th>po_requestedservice</th>\n",
       "      <th>po_requestedservice_gos</th>\n",
       "      <th>po_subindustry_gos</th>\n",
       "      <th>po_tsleadscore</th>\n",
       "      <th>industry</th>\n",
       "      <th>ts</th>\n",
       "      <th>OppFlag</th>\n",
       "    </tr>\n",
       "  </thead>\n",
       "  <tbody>\n",
       "    <tr>\n",
       "      <th>0</th>\n",
       "      <td>816594</td>\n",
       "      <td>12289</td>\n",
       "      <td>125016</td>\n",
       "      <td>60562</td>\n",
       "      <td>15019</td>\n",
       "      <td>0</td>\n",
       "      <td>174889</td>\n",
       "      <td>385452</td>\n",
       "      <td>148901</td>\n",
       "      <td>1620</td>\n",
       "      <td>...</td>\n",
       "      <td>0</td>\n",
       "      <td>0</td>\n",
       "      <td>0</td>\n",
       "      <td>0</td>\n",
       "      <td>0</td>\n",
       "      <td>0</td>\n",
       "      <td>213</td>\n",
       "      <td>0</td>\n",
       "      <td>17</td>\n",
       "      <td>1.0</td>\n",
       "    </tr>\n",
       "    <tr>\n",
       "      <th>1</th>\n",
       "      <td>646976</td>\n",
       "      <td>15158</td>\n",
       "      <td>44637</td>\n",
       "      <td>98428</td>\n",
       "      <td>38450</td>\n",
       "      <td>33601</td>\n",
       "      <td>472173</td>\n",
       "      <td>61384</td>\n",
       "      <td>15080</td>\n",
       "      <td>21507</td>\n",
       "      <td>...</td>\n",
       "      <td>0</td>\n",
       "      <td>0</td>\n",
       "      <td>0</td>\n",
       "      <td>0</td>\n",
       "      <td>0</td>\n",
       "      <td>91</td>\n",
       "      <td>0</td>\n",
       "      <td>0</td>\n",
       "      <td>16</td>\n",
       "      <td>0.0</td>\n",
       "    </tr>\n",
       "    <tr>\n",
       "      <th>2</th>\n",
       "      <td>475842</td>\n",
       "      <td>133504</td>\n",
       "      <td>81265</td>\n",
       "      <td>81347</td>\n",
       "      <td>10635</td>\n",
       "      <td>0</td>\n",
       "      <td>231309</td>\n",
       "      <td>0</td>\n",
       "      <td>105688</td>\n",
       "      <td>0</td>\n",
       "      <td>...</td>\n",
       "      <td>0</td>\n",
       "      <td>0</td>\n",
       "      <td>28</td>\n",
       "      <td>0</td>\n",
       "      <td>0</td>\n",
       "      <td>0</td>\n",
       "      <td>167</td>\n",
       "      <td>0</td>\n",
       "      <td>13</td>\n",
       "      <td>0.0</td>\n",
       "    </tr>\n",
       "    <tr>\n",
       "      <th>3</th>\n",
       "      <td>198238</td>\n",
       "      <td>22862</td>\n",
       "      <td>16967</td>\n",
       "      <td>86862</td>\n",
       "      <td>111150</td>\n",
       "      <td>0</td>\n",
       "      <td>74856</td>\n",
       "      <td>0</td>\n",
       "      <td>161470</td>\n",
       "      <td>0</td>\n",
       "      <td>...</td>\n",
       "      <td>0</td>\n",
       "      <td>0</td>\n",
       "      <td>0</td>\n",
       "      <td>0</td>\n",
       "      <td>0</td>\n",
       "      <td>0</td>\n",
       "      <td>167</td>\n",
       "      <td>42</td>\n",
       "      <td>4</td>\n",
       "      <td>0.0</td>\n",
       "    </tr>\n",
       "    <tr>\n",
       "      <th>4</th>\n",
       "      <td>261320</td>\n",
       "      <td>3798</td>\n",
       "      <td>5100</td>\n",
       "      <td>177138</td>\n",
       "      <td>21850</td>\n",
       "      <td>0</td>\n",
       "      <td>85881</td>\n",
       "      <td>0</td>\n",
       "      <td>86773</td>\n",
       "      <td>0</td>\n",
       "      <td>...</td>\n",
       "      <td>0</td>\n",
       "      <td>0</td>\n",
       "      <td>0</td>\n",
       "      <td>0</td>\n",
       "      <td>0</td>\n",
       "      <td>0</td>\n",
       "      <td>167</td>\n",
       "      <td>0</td>\n",
       "      <td>6</td>\n",
       "      <td>0.0</td>\n",
       "    </tr>\n",
       "  </tbody>\n",
       "</table>\n",
       "<p>5 rows × 54 columns</p>\n",
       "</div>"
      ],
      "text/plain": [
       "   row_key  createdAt  updatedAt  lastName  firstName  title   email   phone  \\\n",
       "0   816594      12289     125016     60562      15019      0  174889  385452   \n",
       "1   646976      15158      44637     98428      38450  33601  472173   61384   \n",
       "2   475842     133504      81265     81347      10635      0  231309       0   \n",
       "3   198238      22862      16967     86862     111150      0   74856       0   \n",
       "4   261320       3798       5100    177138      21850      0   85881       0   \n",
       "\n",
       "   company   city   ...     po_qualificationhotdate  po_qualificationwarmdate  \\\n",
       "0   148901   1620   ...                           0                         0   \n",
       "1    15080  21507   ...                           0                         0   \n",
       "2   105688      0   ...                           0                         0   \n",
       "3   161470      0   ...                           0                         0   \n",
       "4    86773      0   ...                           0                         0   \n",
       "\n",
       "   po_region_account  po_requestedservice  po_requestedservice_gos  \\\n",
       "0                  0                    0                        0   \n",
       "1                  0                    0                        0   \n",
       "2                 28                    0                        0   \n",
       "3                  0                    0                        0   \n",
       "4                  0                    0                        0   \n",
       "\n",
       "   po_subindustry_gos  po_tsleadscore  industry  ts  OppFlag  \n",
       "0                   0             213         0  17      1.0  \n",
       "1                  91               0         0  16      0.0  \n",
       "2                   0             167         0  13      0.0  \n",
       "3                   0             167        42   4      0.0  \n",
       "4                   0             167         0   6      0.0  \n",
       "\n",
       "[5 rows x 54 columns]"
      ]
     },
     "execution_count": 221,
     "metadata": {},
     "output_type": "execute_result"
    }
   ],
   "source": [
    "marketo_data_frame_filtered.head()"
   ]
  },
  {
   "cell_type": "code",
   "execution_count": 222,
   "metadata": {},
   "outputs": [
    {
     "data": {
      "image/png": "[encoded data removed]",
      "text/plain": [
       "<matplotlib.figure.Figure at 0x1909e729860>"
      ]
     },
     "metadata": {},
     "output_type": "display_data"
    }
   ],
   "source": [
    "marketo_data_frame_filtered.drop(columns=['title','city','state','postalCode','divisionCombined2']).plot.box(figsize=(26,10));"
   ]
  },
  {
   "cell_type": "code",
   "execution_count": 223,
   "metadata": {},
   "outputs": [],
   "source": [
    "X = np.array(marketo_data_frame_filtered.drop(['OppFlag'],1).astype(float)) \n",
    "scaler = StandardScaler().fit(X)\n",
    "X = scaler.transform(X)\n",
    "Y = np.array(marketo_data_frame_filtered['OppFlag'])\n"
   ]
  },
  {
   "cell_type": "code",
   "execution_count": 177,
   "metadata": {},
   "outputs": [
    {
     "name": "stderr",
     "output_type": "stream",
     "text": [
      "C:\\Users\\15764\\AppData\\Local\\Continuum\\anaconda2\\envs\\py3\\lib\\site-packages\\sklearn\\grid_search.py:42: DeprecationWarning: This module was deprecated in version 0.18 in favor of the model_selection module into which all the refactored classes and functions are moved. This module will be removed in 0.20.\n",
      "  DeprecationWarning)\n"
     ]
    },
    {
     "name": "stdout",
     "output_type": "stream",
     "text": [
      "0.8440035377291029\n",
      "{'C': 21}\n"
     ]
    },
    {
     "name": "stderr",
     "output_type": "stream",
     "text": [
      "C:\\Users\\15764\\AppData\\Local\\Continuum\\anaconda2\\envs\\py3\\lib\\site-packages\\sklearn\\svm\\base.py:218: ConvergenceWarning: Solver terminated early (max_iter=10).  Consider pre-processing your data with StandardScaler or MinMaxScaler.\n",
      "  % self.max_iter, ConvergenceWarning)\n"
     ]
    },
    {
     "data": {
      "text/plain": [
       "Text(0,0.5,'Cross-Validated Accuracy')"
      ]
     },
     "execution_count": 177,
     "metadata": {},
     "output_type": "execute_result"
    },
    {
     "data": {
      "image/png": "[encoded data removed]",
      "text/plain": [
       "<matplotlib.figure.Figure at 0x18e064b01d0>"
      ]
     },
     "metadata": {},
     "output_type": "display_data"
    }
   ],
   "source": [
    "\n",
    "from sklearn.model_selection import cross_val_score\n",
    "#clf = svm.SVC(max_iter=10,probability=True)\n",
    "\n",
    "from sklearn.grid_search import GridSearchCV\n",
    "C_range = list(range(1,150,10))\n",
    "param_grid= dict(C=C_range)\n",
    "#CVM\n",
    "grid = GridSearchCV(clf, param_grid, cv=10, scoring='accuracy',n_jobs=-1)\n",
    "\n",
    "#log leg\n",
    "#grid = GridSearchCV(logr, param_grid, cv=10, scoring='accuracy',n_jobs=-1)\n",
    "\n",
    "grid.fit(X, Y)\n",
    "print(grid.best_score_)\n",
    "print(grid.best_params_)\n",
    "\n",
    "means = []\n",
    "for i in grid.grid_scores_:\n",
    "    means.append(i.mean_validation_score)\n",
    "    \n",
    "plt.plot(C_range,means);\n",
    "plt.xlabel('Value of C for SVM')\n",
    "plt.ylabel('Cross-Validated Accuracy')\n"
   ]
  },
  {
   "cell_type": "code",
   "execution_count": 226,
   "metadata": {},
   "outputs": [
    {
     "name": "stderr",
     "output_type": "stream",
     "text": [
      "C:\\Users\\15764\\AppData\\Local\\Continuum\\anaconda2\\envs\\py3\\lib\\site-packages\\sklearn\\linear_model\\stochastic_gradient.py:84: FutureWarning: max_iter and tol parameters have been added in <class 'sklearn.linear_model.stochastic_gradient.SGDClassifier'> in 0.19. If both are left unset, they default to max_iter=5 and tol=None. If tol is not None, max_iter defaults to max_iter=1000. From 0.21, default max_iter will be 1000, and default tol will be 1e-3.\n",
      "  \"and default tol will be 1e-3.\" % type(self), FutureWarning)\n"
     ]
    },
    {
     "data": {
      "text/plain": [
       "SGDClassifier(alpha=0.0001, average=False, class_weight=None, epsilon=0.1,\n",
       "       eta0=0.0, fit_intercept=True, l1_ratio=0.15,\n",
       "       learning_rate='optimal', loss='log', max_iter=5, n_iter=None,\n",
       "       n_jobs=1, penalty='l2', power_t=0.5, random_state=None,\n",
       "       shuffle=True, tol=None, verbose=0, warm_start=False)"
      ]
     },
     "execution_count": 226,
     "metadata": {},
     "output_type": "execute_result"
    }
   ],
   "source": [
    "clf = SGDClassifier(loss='log')\n",
    "X_train, X_test, Y_train, Y_test = cross_validation.train_test_split(X,Y, test_size=0.2)\n",
    "#clf = svm.SVC(C=grid.best_params_['C'],max_iter=10,probability=True)\n",
    "clf.fit(X_train,Y_train)"
   ]
  },
  {
   "cell_type": "code",
   "execution_count": 227,
   "metadata": {},
   "outputs": [],
   "source": [
    "accuracy = cross_val_score(clf, X, Y, cv=10, scoring='accuracy').mean()\n",
    "prediction = clf.predict(X_test) \n",
    "#accuracy = clf.score(X_test,Y_test)\n",
    "proba = clf.predict_proba(X_test)"
   ]
  },
  {
   "cell_type": "code",
   "execution_count": 228,
   "metadata": {},
   "outputs": [
    {
     "data": {
      "image/png": "[encoded data removed]",
      "text/plain": [
       "<matplotlib.figure.Figure at 0x18e9d6acdd8>"
      ]
     },
     "metadata": {},
     "output_type": "display_data"
    }
   ],
   "source": [
    "fpr, tpr, thresholds = roc_curve(Y_test, proba[:,1])\n",
    "plt.figure(figsize=(14,9))\n",
    "plt.plot(fpr, tpr)\n",
    "plt.xlim([0.0, 1.0])\n",
    "plt.ylim([0.0, 1.0])\n",
    "plt.title('ROC Curve')\n",
    "plt.xlabel('False Positive Rate (1 - Specificity)')\n",
    "plt.ylabel('True Positive Rate (Sensitivity)')\n",
    "plt.grid(True)"
   ]
  },
  {
   "cell_type": "code",
   "execution_count": 241,
   "metadata": {},
   "outputs": [],
   "source": [
    "new_thershold= 0.1\n",
    "prediction = binarize([proba[:,1]], new_thershold)[0]\n",
    "#evaluate_threshold(new_thershold)"
   ]
  },
  {
   "cell_type": "code",
   "execution_count": 242,
   "metadata": {},
   "outputs": [
    {
     "name": "stdout",
     "output_type": "stream",
     "text": [
      "accuracy=  96.16 \n",
      "\n",
      "values distribution\n",
      " 0.0    154878\n",
      "1.0     19924\n",
      "dtype: int64\n",
      "\n",
      "Null accuracy=  88.6 %\n",
      "\n",
      "           Predict 0  Predict 1\n",
      "Actual 0     140608      14270\n",
      "Actual 1       3209      16715 \n",
      "\n",
      "Sensitivity:  83.89 %\n",
      "Specificity:  90.79 %\n",
      "False Positive Rate:  9.21 %\n",
      "False Negative Rate:  10.36 %\n",
      "AUC Rate:  93.27 %\n"
     ]
    }
   ],
   "source": [
    "print('accuracy= ',round(accuracy*100,2),'\\n')\n",
    "\n",
    "val_dist = pd.Series(Y_test).value_counts()\n",
    "print('values distribution\\n',val_dist)\n",
    "\n",
    "ullacc = max(Y_test.mean(), 1 - Y_test.mean()) \n",
    "print('\\nNull accuracy= ',round(100*ullacc,2),\"%\")\n",
    "\n",
    "cm =confusion_matrix(Y_test, prediction)\n",
    "TP = cm[1, 1]\n",
    "TN = cm[0, 0]\n",
    "FP = cm[0, 1]\n",
    "FN = cm[1, 0]\n",
    "\n",
    "df = pd.DataFrame(cm,columns=['Predict 0', 'Predict 1'])\n",
    "df.rename(index={0: 'Actual 0',1: 'Actual 1'},inplace = True)\n",
    "print('\\n',df,'\\n')\n",
    "\n",
    "print('Sensitivity: ',round(100*recall_score(Y_test,prediction),2),\"%\")\n",
    "\n",
    "print('Specificity: ',round(TN*100 / float(TN + FP),2),\"%\")\n",
    "\n",
    "print('False Positive Rate: ',round(FP*100 / float(TN + FP),2),\"%\")\n",
    "print('False Negative Rate: ',round(FN*100 / float(TP + FP),2),\"%\")\n",
    "\n",
    "print('AUC Rate: ',round(100*roc_auc_score(Y_test, proba[:,1]),2),\"%\")\n"
   ]
  },
  {
   "cell_type": "code",
   "execution_count": 231,
   "metadata": {},
   "outputs": [
    {
     "data": {
      "text/plain": [
       "Text(0,0.5,'Frequency')"
      ]
     },
     "execution_count": 231,
     "metadata": {},
     "output_type": "execute_result"
    },
    {
     "data": {
      "image/png": "[encoded data removed]",
      "text/plain": [
       "<matplotlib.figure.Figure at 0x18eb83feb00>"
      ]
     },
     "metadata": {},
     "output_type": "display_data"
    }
   ],
   "source": [
    "plt.hist(proba[:,1], bins=10)\n",
    "plt.xlim(0, 1)\n",
    "plt.title('Histogram of predicted probabilities')\n",
    "plt.xlabel('Predicted probability of diabetes')\n",
    "plt.ylabel('Frequency')"
   ]
  },
  {
   "cell_type": "code",
   "execution_count": null,
   "metadata": {},
   "outputs": [],
   "source": []
  }
 ],
 "metadata": {
  "kernelspec": {
   "display_name": "Python 3",
   "language": "python",
   "name": "python3"
  },
  "language_info": {
   "codemirror_mode": {
    "name": "ipython",
    "version": 3
   },
   "file_extension": ".py",
   "mimetype": "text/x-python",
   "name": "python",
   "nbconvert_exporter": "python",
   "pygments_lexer": "ipython3",
   "version": "3.6.5"
  }
 },
 "nbformat": 4,
 "nbformat_minor": 2
}
