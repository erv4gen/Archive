{
 "cells": [
  {
   "cell_type": "code",
   "execution_count": 1,
   "metadata": {
    "collapsed": true
   },
   "outputs": [],
   "source": [
    "df = spark.read \\\n",
    "    .options(header = True, inferSchema=True) \\\n",
    "    .csv('c:\\\\Users\\\\15764\\\\Downloads\\\\logs\\\\temp\\\\*.csv')"
   ]
  },
  {
   "cell_type": "code",
   "execution_count": 2,
   "metadata": {},
   "outputs": [
    {
     "name": "stdout",
     "output_type": "stream",
     "text": [
      "+---+-----------+-------+--------------------+--------------+----------+-----------------------+---------------------+--------------------+\n",
      "|_c0|marketoGUID| leadId|        activityDate|activityTypeId|campaignId|primaryAttributeValueId|primaryAttributeValue|          attributes|\n",
      "+---+-----------+-------+--------------------+--------------+----------+-----------------------+---------------------+--------------------+\n",
      "|  0|    2338293|3765534|2016-05-02 00:02:...|             3|      null|                   1818| eur-lex.europa.eu...|\"{\"\"Client IP Add...|\n",
      "|  1|    2338294|3765534|2016-05-02 00:02:...|             3|      null|                   1818| eur-lex.europa.eu...|\"{\"\"Client IP Add...|\n",
      "|  2|    2338915|3765534|2016-05-02 00:24:...|             1|      null|                    304| japan.ul.com/reso...|\"{\"\"Client IP Add...|\n",
      "|  3|    2338939|3765534|2016-05-02 00:24:...|             1|      null|                   1873| japan.ul.com/news...|\"{\"\"Client IP Add...|\n",
      "|  4|    2329148| 835964|2016-05-02 00:25:...|             1|      null|                    874|        japan.ul.com/|\"{\"\"Client IP Add...|\n",
      "+---+-----------+-------+--------------------+--------------+----------+-----------------------+---------------------+--------------------+\n",
      "only showing top 5 rows\n",
      "\n"
     ]
    }
   ],
   "source": [
    "df.show(5)"
   ]
  },
  {
   "cell_type": "code",
   "execution_count": 3,
   "metadata": {},
   "outputs": [
    {
     "data": {
      "text/plain": [
       "1000"
      ]
     },
     "execution_count": 3,
     "metadata": {},
     "output_type": "execute_result"
    }
   ],
   "source": [
    "df.count()"
   ]
  },
  {
   "cell_type": "code",
   "execution_count": 4,
   "metadata": {},
   "outputs": [
    {
     "data": {
      "text/plain": [
       "['_c0',\n",
       " 'marketoGUID',\n",
       " 'leadId',\n",
       " 'activityDate',\n",
       " 'activityTypeId',\n",
       " 'campaignId',\n",
       " 'primaryAttributeValueId',\n",
       " 'primaryAttributeValue',\n",
       " 'attributes']"
      ]
     },
     "execution_count": 4,
     "metadata": {},
     "output_type": "execute_result"
    }
   ],
   "source": [
    "df.columns"
   ]
  },
  {
   "cell_type": "code",
   "execution_count": 5,
   "metadata": {},
   "outputs": [
    {
     "name": "stdout",
     "output_type": "stream",
     "text": [
      "root\n",
      " |-- _c0: integer (nullable = true)\n",
      " |-- marketoGUID: integer (nullable = true)\n",
      " |-- leadId: integer (nullable = true)\n",
      " |-- activityDate: timestamp (nullable = true)\n",
      " |-- activityTypeId: integer (nullable = true)\n",
      " |-- campaignId: string (nullable = true)\n",
      " |-- primaryAttributeValueId: integer (nullable = true)\n",
      " |-- primaryAttributeValue: string (nullable = true)\n",
      " |-- attributes: string (nullable = true)\n",
      "\n"
     ]
    }
   ],
   "source": [
    "df.printSchema()"
   ]
  },
  {
   "cell_type": "code",
   "execution_count": 10,
   "metadata": {},
   "outputs": [
    {
     "data": {
      "text/plain": [
       "[('_c0', 'int'),\n",
       " ('marketoGUID', 'int'),\n",
       " ('leadId', 'int'),\n",
       " ('activityDate', 'timestamp'),\n",
       " ('activityTypeId', 'int'),\n",
       " ('campaignId', 'string'),\n",
       " ('primaryAttributeValueId', 'int'),\n",
       " ('primaryAttributeValue', 'string'),\n",
       " ('attributes', 'string')]"
      ]
     },
     "execution_count": 10,
     "metadata": {},
     "output_type": "execute_result"
    }
   ],
   "source": [
    "df.dtypes"
   ]
  },
  {
   "cell_type": "code",
   "execution_count": 11,
   "metadata": {},
   "outputs": [
    {
     "name": "stdout",
     "output_type": "stream",
     "text": [
      "+-------+-----------------+-----------------+-----------------+------------------+------------------+-----------------------+---------------------+--------------------+\n",
      "|summary|              _c0|      marketoGUID|           leadId|    activityTypeId|        campaignId|primaryAttributeValueId|primaryAttributeValue|          attributes|\n",
      "+-------+-----------------+-----------------+-----------------+------------------+------------------+-----------------------+---------------------+--------------------+\n",
      "|  count|             1000|             1000|             1000|              1000|              1000|                   1000|                 1000|                1000|\n",
      "|   mean|            499.5|      2406254.548|      1722356.373|             2.732|1195.5416666666667|              10930.614|                 null|                null|\n",
      "| stddev|288.8194360957494|42840.24964623062|1103491.146898181|3.4635490717141826|0.8934459211586867|     10519.091407866514|                 null|                null|\n",
      "|    min|                0|          2329148|              553|                 1|              1195|                     10|      First Page Seen|\"{\"\"Client IP Add...|\n",
      "|    max|              999|          2484539|          6187124|                13|              null|                  40414| www.ulstandards.com/|\"{\"\"Reason\"\":\"\"Ch...|\n",
      "+-------+-----------------+-----------------+-----------------+------------------+------------------+-----------------------+---------------------+--------------------+\n",
      "\n"
     ]
    }
   ],
   "source": [
    "df.describe().show()"
   ]
  },
  {
   "cell_type": "code",
   "execution_count": 25,
   "metadata": {
    "collapsed": true
   },
   "outputs": [],
   "source": [
    "df =df.toDF('a','b','c','d','e','f','g','e','f','g')"
   ]
  },
  {
   "cell_type": "code",
   "execution_count": 27,
   "metadata": {
    "collapsed": true
   },
   "outputs": [],
   "source": [
    "df =df.withColumn('cl', 1 / df.b) #name,value\n"
   ]
  },
  {
   "cell_type": "code",
   "execution_count": 28,
   "metadata": {},
   "outputs": [
    {
     "name": "stdout",
     "output_type": "stream",
     "text": [
      "+---+-------+-------+--------------------+---+----+----+--------------------+--------------------+--------------------+--------------------+\n",
      "|  a|      b|      c|                   d|  e|   f|   g|                   e|                   f|                   g|                  cl|\n",
      "+---+-------+-------+--------------------+---+----+----+--------------------+--------------------+--------------------+--------------------+\n",
      "|  0|2338293|3765534|2016-05-02 00:02:...|  3|null|1818|eur-lex.europa.eu...|\"{\"\"Client IP Add...|2.655665836505526E-7|4.276624015895356E-7|\n",
      "|  1|2338294|3765534|2016-05-02 00:02:...|  3|null|1818|eur-lex.europa.eu...|\"{\"\"Client IP Add...|2.655665836505526E-7|4.276622186944841E-7|\n",
      "|  2|2338915|3765534|2016-05-02 00:24:...|  1|null| 304|japan.ul.com/reso...|\"{\"\"Client IP Add...|2.655665836505526E-7|4.275486710718431...|\n",
      "|  3|2338939|3765534|2016-05-02 00:24:...|  1|null|1873|japan.ul.com/news...|\"{\"\"Client IP Add...|2.655665836505526E-7|4.275442839680727E-7|\n",
      "+---+-------+-------+--------------------+---+----+----+--------------------+--------------------+--------------------+--------------------+\n",
      "only showing top 4 rows\n",
      "\n"
     ]
    }
   ],
   "source": [
    "df.show(4)"
   ]
  },
  {
   "cell_type": "code",
   "execution_count": 31,
   "metadata": {
    "collapsed": true
   },
   "outputs": [],
   "source": [
    "df = df.drop('cl')"
   ]
  },
  {
   "cell_type": "code",
   "execution_count": 35,
   "metadata": {},
   "outputs": [
    {
     "name": "stdout",
     "output_type": "stream",
     "text": [
      "+---+-------+------+--------------------+---+----+-----+--------------------+--------------------+--------------------+\n",
      "|  a|      b|     c|                   d|  e|   f|    g|                   e|                   f|                   g|\n",
      "+---+-------+------+--------------------+---+----+-----+--------------------+--------------------+--------------------+\n",
      "| 11|2340910|879788|2016-05-02 01:19:...|  1|null|30976|annualreport.ul.c...|\"{\"\"Client IP Add...|1.136637462661459...|\n",
      "| 12|2340927|879788|2016-05-02 01:19:...|  3|null|30978|annualreport.ul.c...|\"{\"\"Client IP Add...|1.136637462661459...|\n",
      "+---+-------+------+--------------------+---+----+-----+--------------------+--------------------+--------------------+\n",
      "only showing top 2 rows\n",
      "\n"
     ]
    }
   ],
   "source": [
    "df[df['a']>10].show(2)"
   ]
  },
  {
   "cell_type": "code",
   "execution_count": 39,
   "metadata": {},
   "outputs": [
    {
     "name": "stdout",
     "output_type": "stream",
     "text": [
      "+-------+------------------+\n",
      "|      c|            avg(a)|\n",
      "+-------+------------------+\n",
      "|1437746|              91.5|\n",
      "|1618392|             386.0|\n",
      "| 584850| 810.6666666666666|\n",
      "| 879789|              73.5|\n",
      "| 822723|             884.5|\n",
      "|1486148|             957.0|\n",
      "|1011744|             703.5|\n",
      "|1951872|             996.5|\n",
      "|1105854|             167.5|\n",
      "| 580761|             815.0|\n",
      "| 861093|             506.6|\n",
      "|1361161| 869.3333333333334|\n",
      "|1630652|             850.0|\n",
      "| 409682|             114.5|\n",
      "| 329478|264.42857142857144|\n",
      "|1217972| 175.6818181818182|\n",
      "|1166618|105.33333333333333|\n",
      "|1034173|             765.5|\n",
      "|1106241|             727.0|\n",
      "|1677043|             132.5|\n",
      "+-------+------------------+\n",
      "only showing top 20 rows\n",
      "\n"
     ]
    }
   ],
   "source": [
    "df.groupby(['c']).agg({\"a\":\"mean\"}).show()"
   ]
  },
  {
   "cell_type": "code",
   "execution_count": 6,
   "metadata": {
    "collapsed": true
   },
   "outputs": [],
   "source": [
    "import pyspark.sql.functions as F\n",
    "df =df.withColumn('log(a)',F.log(df.leadId))"
   ]
  },
  {
   "cell_type": "code",
   "execution_count": 19,
   "metadata": {},
   "outputs": [],
   "source": [
    "df =df.withColumn('cond',\n",
    "               F.when(df.leadId>10,'more than 10')\n",
    "               .when(df.leadId<10,'less than 10')\n",
    "             )#.otherwsie(2))    #doesn't work"
   ]
  },
  {
   "cell_type": "code",
   "execution_count": 21,
   "metadata": {},
   "outputs": [
    {
     "name": "stdout",
     "output_type": "stream",
     "text": [
      "+---+-----------+-------+--------------------+--------------+----------+-----------------------+---------------------+--------------------+------------------+-----+\n",
      "|_c0|marketoGUID| leadId|        activityDate|activityTypeId|campaignId|primaryAttributeValueId|primaryAttributeValue|          attributes|            log(a)|disp1|\n",
      "+---+-----------+-------+--------------------+--------------+----------+-----------------------+---------------------+--------------------+------------------+-----+\n",
      "|  0|    2338293|3765534|2016-05-02 00:02:...|             3|      null|                   1818| eur-lex.europa.eu...|\"{\"\"Client IP Add...|15.141400241828151|    0|\n",
      "|  1|    2338294|3765534|2016-05-02 00:02:...|             3|      null|                   1818| eur-lex.europa.eu...|\"{\"\"Client IP Add...|15.141400241828151|    2|\n",
      "+---+-----------+-------+--------------------+--------------+----------+-----------------------+---------------------+--------------------+------------------+-----+\n",
      "only showing top 2 rows\n",
      "\n"
     ]
    }
   ],
   "source": [
    "df = df.drop('cond')\n",
    "df.show(2)"
   ]
  },
  {
   "cell_type": "code",
   "execution_count": 20,
   "metadata": {},
   "outputs": [
    {
     "name": "stdout",
     "output_type": "stream",
     "text": [
      "+---+-----------+-------+--------------------+--------------+----------+-----------------------+---------------------+--------------------+------------------+------------+-----+\n",
      "|_c0|marketoGUID| leadId|        activityDate|activityTypeId|campaignId|primaryAttributeValueId|primaryAttributeValue|          attributes|            log(a)|        cond|disp1|\n",
      "+---+-----------+-------+--------------------+--------------+----------+-----------------------+---------------------+--------------------+------------------+------------+-----+\n",
      "|  0|    2338293|3765534|2016-05-02 00:02:...|             3|      null|                   1818| eur-lex.europa.eu...|\"{\"\"Client IP Add...|15.141400241828151|more than 10|    0|\n",
      "|  1|    2338294|3765534|2016-05-02 00:02:...|             3|      null|                   1818| eur-lex.europa.eu...|\"{\"\"Client IP Add...|15.141400241828151|more than 10|    2|\n",
      "|  2|    2338915|3765534|2016-05-02 00:24:...|             1|      null|                    304| japan.ul.com/reso...|\"{\"\"Client IP Add...|15.141400241828151|more than 10|    4|\n",
      "+---+-----------+-------+--------------------+--------------+----------+-----------------------+---------------------+--------------------+------------------+------------+-----+\n",
      "only showing top 3 rows\n",
      "\n"
     ]
    }
   ],
   "source": [
    "from pyspark.sql.types import IntegerType\n",
    "fn  = F.udf(lambda x: x*2, IntegerType())\n",
    "df =df.withColumn('disp1',fn(df._c0))\n",
    "df.show(3)"
   ]
  },
  {
   "cell_type": "raw",
   "metadata": {},
   "source": [
    "Do SQL Query"
   ]
  },
  {
   "cell_type": "code",
   "execution_count": 23,
   "metadata": {
    "collapsed": true
   },
   "outputs": [],
   "source": [
    "df.createOrReplaceTempView('Foo')"
   ]
  },
  {
   "cell_type": "code",
   "execution_count": 45,
   "metadata": {},
   "outputs": [],
   "source": [
    "df2 = spark.sql(\"\"\"SELECT \n",
    "                    leadId\n",
    "                    ,COUNT(activityTypeId) AS a\n",
    "                    FROM Foo \n",
    "                    GROUP BY leadId\n",
    "                    ORDER BY a DESC\n",
    "                    \"\"\")"
   ]
  },
  {
   "cell_type": "code",
   "execution_count": 46,
   "metadata": {},
   "outputs": [
    {
     "name": "stdout",
     "output_type": "stream",
     "text": [
      "+-------+---+\n",
      "| leadId|  a|\n",
      "+-------+---+\n",
      "| 879788| 70|\n",
      "|2070453| 56|\n",
      "|1972138| 54|\n",
      "|2022429| 40|\n",
      "|    553| 33|\n",
      "|1281787| 23|\n",
      "|1982058| 22|\n",
      "|1217972| 22|\n",
      "|2110161| 21|\n",
      "|5025942| 20|\n",
      "|4407241| 15|\n",
      "|1521396| 14|\n",
      "| 588739| 14|\n",
      "|1637425| 12|\n",
      "|1916148| 12|\n",
      "|   8570| 12|\n",
      "|1939659| 11|\n",
      "|1079098| 11|\n",
      "|2125418| 10|\n",
      "|1662798|  9|\n",
      "+-------+---+\n",
      "only showing top 20 rows\n",
      "\n"
     ]
    }
   ],
   "source": [
    "df2.show()"
   ]
  },
  {
   "cell_type": "code",
   "execution_count": 57,
   "metadata": {},
   "outputs": [],
   "source": [
    "data_to_new_df = [{'leadId':'4407240','newField':'newdata'},\n",
    "                 {'leadId':'4407241', 'newField':'newdata3'}]\n",
    "\n",
    "seconddf = sqlContext.createDataFrame(data_to_new_df)"
   ]
  },
  {
   "cell_type": "code",
   "execution_count": 58,
   "metadata": {},
   "outputs": [
    {
     "name": "stdout",
     "output_type": "stream",
     "text": [
      "root\n",
      " |-- leadId: string (nullable = true)\n",
      " |-- newField: string (nullable = true)\n",
      "\n"
     ]
    }
   ],
   "source": [
    "seconddf.printSchema()"
   ]
  },
  {
   "cell_type": "code",
   "execution_count": 60,
   "metadata": {},
   "outputs": [
    {
     "name": "stdout",
     "output_type": "stream",
     "text": [
      "+---+-----------+-------+--------------------+--------------+----------+-----------------------+---------------------+--------------------+------------------+-----+-------+--------+\n",
      "|_c0|marketoGUID| leadId|        activityDate|activityTypeId|campaignId|primaryAttributeValueId|primaryAttributeValue|          attributes|            log(a)|disp1| leadId|newField|\n",
      "+---+-----------+-------+--------------------+--------------+----------+-----------------------+---------------------+--------------------+------------------+-----+-------+--------+\n",
      "|651|    2420236|4407241|2016-05-02 17:18:...|             1|      null|                   7134| industries.ul.com...|\"{\"\"Client IP Add...|15.298759428056167| 1302|4407241|newdata3|\n",
      "|650|    2420213|4407241|2016-05-02 17:18:...|             1|      null|                    156| industries.ul.com...|\"{\"\"Client IP Add...|15.298759428056167| 1300|4407241|newdata3|\n",
      "|649|    2420007|4407241|2016-05-02 17:13:...|             1|      null|                    489| industries.ul.com...|\"{\"\"Client IP Add...|15.298759428056167| 1298|4407241|newdata3|\n",
      "+---+-----------+-------+--------------------+--------------+----------+-----------------------+---------------------+--------------------+------------------+-----+-------+--------+\n",
      "only showing top 3 rows\n",
      "\n"
     ]
    }
   ],
   "source": [
    "df.join(seconddf,df.leadId==seconddf.leadId).show(3)"
   ]
  },
  {
   "cell_type": "code",
   "execution_count": null,
   "metadata": {
    "collapsed": true
   },
   "outputs": [],
   "source": []
  }
 ],
 "metadata": {
  "kernelspec": {
   "display_name": "Python 2",
   "language": "python",
   "name": "python2"
  },
  "language_info": {
   "codemirror_mode": {
    "name": "ipython",
    "version": 2
   },
   "file_extension": ".py",
   "mimetype": "text/x-python",
   "name": "python",
   "nbconvert_exporter": "python",
   "pygments_lexer": "ipython2",
   "version": "2.7.14"
  }
 },
 "nbformat": 4,
 "nbformat_minor": 2
}
