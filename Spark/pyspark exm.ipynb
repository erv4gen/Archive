{
 "cells": [
  {
   "cell_type": "code",
   "execution_count": null,
   "metadata": {
    "collapsed": true
   },
   "outputs": [],
   "source": [
    "df.dtypes"
   ]
  },
  {
   "cell_type": "code",
   "execution_count": 10,
   "metadata": {},
   "outputs": [
    {
     "name": "stdout",
     "output_type": "stream",
     "text": [
      "+-------+-----------------+-----------------+-----------------+------------------+------------------+-----------------------+---------------------+--------------------+\n",
      "|summary|              _c0|      marketoGUID|           leadId|    activityTypeId|        campaignId|primaryAttributeValueId|primaryAttributeValue|          attributes|\n",
      "+-------+-----------------+-----------------+-----------------+------------------+------------------+-----------------------+---------------------+--------------------+\n",
      "|  count|             1000|             1000|             1000|              1000|              1000|                   1000|                 1000|                1000|\n",
      "|   mean|            499.5|      2406254.548|      1722356.373|             2.732|1195.5416666666667|              10930.614|                 null|                null|\n",
      "| stddev|288.8194360957494|42840.24964623062|1103491.146898181|3.4635490717141826|0.8934459211586867|     10519.091407866514|                 null|                null|\n",
      "|    min|                0|          2329148|              553|                 1|              1195|                     10|      First Page Seen|\"{\"\"Client IP Add...|\n",
      "|    max|              999|          2484539|          6187124|                13|              null|                  40414| www.ulstandards.com/|\"{\"\"Reason\"\":\"\"Ch...|\n",
      "+-------+-----------------+-----------------+-----------------+------------------+------------------+-----------------------+---------------------+--------------------+\n",
      "\n"
     ]
    }
   ],
   "source": [
    "df.describe().show()"
   ]
  },
  {
   "cell_type": "code",
   "execution_count": null,
   "metadata": {
    "collapsed": true
   },
   "outputs": [],
   "source": []
  }
 ],
 "metadata": {
  "kernelspec": {
   "display_name": "Python 2",
   "language": "python",
   "name": "python2"
  },
  "language_info": {
   "codemirror_mode": {
    "name": "ipython",
    "version": 2
   },
   "file_extension": ".py",
   "mimetype": "text/x-python",
   "name": "python",
   "nbconvert_exporter": "python",
   "pygments_lexer": "ipython2",
   "version": "2.7.14"
  }
 },
 "nbformat": 4,
 "nbformat_minor": 2
}
